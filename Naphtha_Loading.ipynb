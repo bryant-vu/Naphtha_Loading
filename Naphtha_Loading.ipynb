{
 "cells": [
  {
   "cell_type": "code",
   "execution_count": 126,
   "metadata": {
    "collapsed": false,
    "scrolled": true
   },
   "outputs": [
    {
     "name": "stdout",
     "output_type": "stream",
     "text": [
      "WARNING *** OLE2 inconsistency: SSCS size is 0 but SSAT size is non-zero\n"
     ]
    },
    {
     "name": "stderr",
     "output_type": "stream",
     "text": [
      "C:\\Anaconda3\\lib\\site-packages\\ipykernel\\__main__.py:12: SettingWithCopyWarning: \n",
      "A value is trying to be set on a copy of a slice from a DataFrame\n",
      "\n",
      "See the caveats in the documentation: http://pandas.pydata.org/pandas-docs/stable/indexing.html#indexing-view-versus-copy\n"
     ]
    }
   ],
   "source": [
    "import pandas as pd\n",
    "import datetime\n",
    "import xlsxwriter\n",
    "\n",
    "try:\n",
    "    df = pd.read_excel(open(\"rptDailyReportEnviro_naphtha.xls\",'rb'), header = 1)\n",
    "except:\n",
    "    df = pd.read_excel(open(\"rptDailyReportEnviro.xls\",'rb'), header = 1)\n",
    "\n",
    "#remove unneeded rows and columns\n",
    "data = df[:-1]\n",
    "data.drop(['BOL_Label','BSW_Label'],inplace=True,axis=1)"
   ]
  },
  {
   "cell_type": "code",
   "execution_count": 127,
   "metadata": {
    "collapsed": false
   },
   "outputs": [
    {
     "name": "stderr",
     "output_type": "stream",
     "text": [
      "C:\\Anaconda3\\lib\\site-packages\\ipykernel\\__main__.py:3: SettingWithCopyWarning: \n",
      "A value is trying to be set on a copy of a slice from a DataFrame.\n",
      "Try using .loc[row_indexer,col_indexer] = value instead\n",
      "\n",
      "See the caveats in the documentation: http://pandas.pydata.org/pandas-docs/stable/indexing.html#indexing-view-versus-copy\n",
      "  app.launch_new_instance()\n",
      "C:\\Anaconda3\\lib\\site-packages\\ipykernel\\__main__.py:4: SettingWithCopyWarning: \n",
      "A value is trying to be set on a copy of a slice from a DataFrame.\n",
      "Try using .loc[row_indexer,col_indexer] = value instead\n",
      "\n",
      "See the caveats in the documentation: http://pandas.pydata.org/pandas-docs/stable/indexing.html#indexing-view-versus-copy\n",
      "C:\\Anaconda3\\lib\\site-packages\\ipykernel\\__main__.py:7: SettingWithCopyWarning: \n",
      "A value is trying to be set on a copy of a slice from a DataFrame\n",
      "\n",
      "See the caveats in the documentation: http://pandas.pydata.org/pandas-docs/stable/indexing.html#indexing-view-versus-copy\n"
     ]
    }
   ],
   "source": [
    "#remover whitespace in consignee and product columns\n",
    "data.dtypes\n",
    "data[\"Text27\"] = data[\"Text27\"].map(str.strip)\n",
    "data[\"Text98\"]= data[\"Text98\"].map(str.strip)\n",
    "\n",
    "#sort by gross_date\n",
    "data.sort_values('GROSS_DATE',inplace=True)"
   ]
  },
  {
   "cell_type": "code",
   "execution_count": 128,
   "metadata": {
    "collapsed": false
   },
   "outputs": [],
   "source": [
    "#remove naphtha loads that do no pass through the racks (i.e. offloaded at ChemOil or transactions at ChemOil)\n",
    "data = data[data[\"Text98\"] == \"NAPHTHA PETROLEUM DISTILLATE\"]\n",
    "data = data[(data['Text27'] != 'FORELAND REFINING (NAPHTHA)') & (data['Text27'] !='TESORO (NAPHTHA)')] \n",
    "data = data[(data['NET_BARRELS']) > 0]"
   ]
  },
  {
   "cell_type": "code",
   "execution_count": 129,
   "metadata": {
    "collapsed": false
   },
   "outputs": [],
   "source": [
    "#C1.33 calcs\n",
    "\n",
    "#sort by GROSS_DATE\n",
    "dates = data[\"GROSS_DATE\"].sort_values()\n",
    "\n",
    "#sum gallons loaded per day\n",
    "thruput = data.groupby(['GROSS_DATE'])['Text125'].sum()\n",
    "\n",
    "#extract unique day values\n",
    "data[\"dates\"] = data[\"GROSS_DATE\"].dt.strftime('%Y-%m-%d')\n",
    "dates = data[\"dates\"].unique()\n",
    "\n",
    "#compliance status\n",
    "status_thru = []\n",
    "for thru in thruput:\n",
    "    if thru <= 80000:\n",
    "        stat = 'OK'\n",
    "    else:\n",
    "        stat = 'EXCEEDANCE'\n",
    "    status_thru.append(stat)"
   ]
  },
  {
   "cell_type": "code",
   "execution_count": 130,
   "metadata": {
    "collapsed": false
   },
   "outputs": [],
   "source": [
    "#write to Excel\n",
    "\n",
    "#setup workbook and worksheet\n",
    "workbook = xlsxwriter.Workbook('%s to %s_Naphtha Loading_C1.33.xlsx' %(dates[0],dates[-1]))\n",
    "bold = workbook.add_format({'bold':True})\n",
    "num_fmt = workbook.add_format({'num_format':'###,###,###'})\n",
    "worksheet1 = workbook.add_worksheet('Summary')\n",
    "\n",
    "worksheet1.set_column('A:D',15)\n",
    "\n",
    "row = 0\n",
    "col = 0\n",
    "\n",
    "#write C1.33 headers\n",
    "worksheet1.write(row,col,\"C1.33: Naphtha Racks 7 and 8 (D136) cannot exceed monthly throughput of 80,000 gallons.\",bold)\n",
    "row += 2\n",
    "columns = ['Date','Throughput (gal)','Limit (gal)','Compliance']\n",
    "for header in columns:\n",
    "    worksheet1.write(row,col,header)\n",
    "    col += 1\n",
    "row += 1\n",
    "col = 0\n",
    "\n",
    "#write C1.33 data\n",
    "for i in range(len(dates)):\n",
    "    worksheet1.write(row,col,dates[i])\n",
    "    col += 1\n",
    "    worksheet1.write(row,col,thruput[i],num_fmt)\n",
    "    col += 1\n",
    "    worksheet1.write_number(row,col,80000,num_fmt)\n",
    "    col += 1\n",
    "    worksheet1.write(row,col,status_thru[i])\n",
    "    row += 1\n",
    "    col = 0\n",
    "    \n",
    "workbook.close()"
   ]
  },
  {
   "cell_type": "code",
   "execution_count": null,
   "metadata": {
    "collapsed": true
   },
   "outputs": [],
   "source": []
  }
 ],
 "metadata": {
  "anaconda-cloud": {},
  "kernelspec": {
   "display_name": "Python [conda root]",
   "language": "python",
   "name": "conda-root-py"
  },
  "language_info": {
   "codemirror_mode": {
    "name": "ipython",
    "version": 3
   },
   "file_extension": ".py",
   "mimetype": "text/x-python",
   "name": "python",
   "nbconvert_exporter": "python",
   "pygments_lexer": "ipython3",
   "version": "3.5.2"
  }
 },
 "nbformat": 4,
 "nbformat_minor": 1
}
